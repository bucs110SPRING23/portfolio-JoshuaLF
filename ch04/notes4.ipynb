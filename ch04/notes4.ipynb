{
 "cells": [
  {
   "attachments": {},
   "cell_type": "markdown",
   "metadata": {},
   "source": [
    "# NEW DAY: 2/22/23"
   ]
  },
  {
   "attachments": {},
   "cell_type": "markdown",
   "metadata": {},
   "source": [
    "Iteration:\n",
    "\n",
    "- Iterable - you can loop over it\n",
    "    - mynums = [1, 2, 3, 4] is iterable\n",
    "    - mystr = \"hello\" is technically iterable but not 'really'\n",
    "        - Strings are classified as special iterable lists of characters\n",
    "    \n",
    "    - Anything iterable can be 'indexed' into (you can get into the values inside of it)\n",
    "        - print(mystr[0]) - indexing into the 0th value of mystr\n",
    "\n",
    "- Mutable - changeable\n",
    "- Immutable - cannot be changed once created\n",
    "\n",
    "mystr = \"hello\" #immutable (can't change strings)\n",
    "\n",
    "- Iterable objects are not always mutable\n",
    "\n",
    "- Tuple - immutable list (can't be changed and much faster than lists)\n",
    "\n",
    "mynums = (5, 8, 1, 1234567, 5)"
   ]
  },
  {
   "cell_type": "code",
   "execution_count": 20,
   "metadata": {},
   "outputs": [
    {
     "name": "stdout",
     "output_type": "stream",
     "text": [
      "0 2 1\n",
      "1 4 2\n",
      "2 6 3\n",
      "3 8 4\n",
      "4 10 5\n",
      "5 10\n",
      "10 5\n",
      "[5, 5, 5]\n",
      "15\n",
      "(5, 5, 5)\n"
     ]
    }
   ],
   "source": [
    "mynums = [1, 2, 3, 4, 5]\n",
    "\n",
    "for i, v in enumerate(mynums): #enumerate returns index and value at index\n",
    "    mynums[i] = v * 2\n",
    "    print(i, mynums[i], v) #v is original value (not changed)\n",
    "\n",
    "x = 5 \n",
    "y = 10\n",
    "print(x, y)\n",
    "\n",
    "x, y = y, x #allows you to swap values easily\n",
    "print(x, y)\n",
    "\n",
    "num = [5] * 3 #makes list with 3 5's\n",
    "print(num)\n",
    "\n",
    "num2 = (5) * 3 #python thinks its just number and multiplies\n",
    "print(num2)\n",
    "\n",
    "num3 = (5,) * 3 #python knows it's a tuple and does same with list (b/c of ,)\n",
    "print(num3)"
   ]
  },
  {
   "attachments": {},
   "cell_type": "markdown",
   "metadata": {},
   "source": [
    "Dictionary:\n",
    "\n",
    "- Defined with '{}'\n",
    "\n",
    "- list[index] = value\n",
    "- dictionary[key] = value\n",
    "\n",
    "- key/value pairs\n",
    "- keys must be unique\n",
    "- keys must be immutable\n",
    "\n",
    "- .items() is the enumerate for lists\n",
    "\n",
    "- You can do .keys() or .values() for just get the keys or values in a loop\n",
    "\n",
    "- .get() will return \"None\" if no key is in the dictionary other than an error\n"
   ]
  },
  {
   "cell_type": "code",
   "execution_count": 6,
   "metadata": {},
   "outputs": [
    {
     "name": "stdout",
     "output_type": "stream",
     "text": [
      "867-5309\n",
      "{'bill': '867-5309', 'jane': '555-1212', 'joe': '703-2103'}\n",
      "{'bill': '867-5309', 'jane': '555-1212', 'joe': '602-3921'}\n",
      "bill\n",
      "867-5309\n",
      "jane\n",
      "555-1212\n",
      "joe\n",
      "602-3921\n",
      "bill\n",
      "867-5309\n",
      "jane\n",
      "555-1212\n",
      "joe\n",
      "602-3921\n"
     ]
    }
   ],
   "source": [
    "contact  = {\n",
    "    \"bill\" : \"867-5309\",\n",
    "    \"jane\" : \"555-1212\"\n",
    "}\n",
    "\n",
    "print(contact[\"bill\"])\n",
    "\n",
    "contact[\"joe\"] = \"703-2103\"\n",
    "print(contact)\n",
    "\n",
    "contact[\"joe\"] = \"602-3921\" #can't have two of the same key\n",
    "print(contact)\n",
    "\n",
    "for k in contact: #c is assigned to the key\n",
    "    print(k)\n",
    "    print(contact[k])\n",
    "\n",
    "for k, v in contact.items(): #enumerate for lists\n",
    "    print(k)\n",
    "    print(v)"
   ]
  }
 ],
 "metadata": {
  "kernelspec": {
   "display_name": "Python 3",
   "language": "python",
   "name": "python3"
  },
  "language_info": {
   "codemirror_mode": {
    "name": "ipython",
    "version": 3
   },
   "file_extension": ".py",
   "mimetype": "text/x-python",
   "name": "python",
   "nbconvert_exporter": "python",
   "pygments_lexer": "ipython3",
   "version": "3.9.10"
  },
  "orig_nbformat": 4,
  "vscode": {
   "interpreter": {
    "hash": "aee8b7b246df8f9039afb4144a1f6fd8d2ca17a180786b69acc140d282b71a49"
   }
  }
 },
 "nbformat": 4,
 "nbformat_minor": 2
}
