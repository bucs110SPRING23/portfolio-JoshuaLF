{
 "cells": [
  {
   "cell_type": "markdown",
   "metadata": {},
   "source": [
    "# NEW DAY: 03/08/23"
   ]
  },
  {
   "cell_type": "code",
   "execution_count": 1,
   "metadata": {},
   "outputs": [
    {
     "name": "stdout",
     "output_type": "stream",
     "text": [
      "1\n",
      "0\n"
     ]
    }
   ],
   "source": [
    "def foo():\n",
    "    local_var = 5 # local only to the function (deleted when foo is done)\n",
    "    # define a variable in a function makes it local\n",
    "\n",
    "def my_min(x,y,z):\n",
    "    result = x # local scope result\n",
    "    if result > y:\n",
    "        result = y\n",
    "    if result > z:\n",
    "        result = z\n",
    "    print(result)\n",
    "\n",
    "result = 0 # global scope result takes precedence\n",
    "my_min(1,2,3)\n",
    "print(result)"
   ]
  },
  {
   "cell_type": "code",
   "execution_count": 3,
   "metadata": {},
   "outputs": [
    {
     "name": "stdout",
     "output_type": "stream",
     "text": [
      "5 6\n"
     ]
    }
   ],
   "source": [
    "def foo():\n",
    "    x = 5\n",
    "    return x, 6 #commas allow you to return multiple values\n",
    "\n",
    "y, z = foo()\n",
    "print(y, z)"
   ]
  },
  {
   "cell_type": "code",
   "execution_count": 4,
   "metadata": {},
   "outputs": [
    {
     "name": "stdout",
     "output_type": "stream",
     "text": [
      "0\n",
      "0\n",
      "None\n"
     ]
    }
   ],
   "source": [
    "def foo(num=0):\n",
    " return num * num\n",
    "\n",
    "def foo2(num=0):\n",
    "  print(num * num)\n",
    "\n",
    "print(foo())\n",
    "print(foo2()) #prints None because there is no return statement in the function"
   ]
  },
  {
   "cell_type": "code",
   "execution_count": null,
   "metadata": {},
   "outputs": [],
   "source": [
    "def main():\n",
    "    x = 5\n",
    "    start(x)\n",
    "    start(x)\n",
    "    dosomething()\n",
    "\n",
    "main() #call the main function in a global scope - at then end of your program"
   ]
  }
 ],
 "metadata": {
  "kernelspec": {
   "display_name": "Python 3",
   "language": "python",
   "name": "python3"
  },
  "language_info": {
   "codemirror_mode": {
    "name": "ipython",
    "version": 3
   },
   "file_extension": ".py",
   "mimetype": "text/x-python",
   "name": "python",
   "nbconvert_exporter": "python",
   "pygments_lexer": "ipython3",
   "version": "3.9.10"
  },
  "orig_nbformat": 4
 },
 "nbformat": 4,
 "nbformat_minor": 2
}
