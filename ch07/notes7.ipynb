{
 "cells": [
  {
   "attachments": {},
   "cell_type": "markdown",
   "metadata": {},
   "source": [
    "# NEW DAY: 3/22/23"
   ]
  },
  {
   "attachments": {},
   "cell_type": "markdown",
   "metadata": {},
   "source": [
    "- Advanced programming just manages complexity\n",
    "\n",
    "- Unix - 10,000 SLOC (source lines of code)\n",
    "- Chrome - 10,000,000 SLOC\n",
    "- OS X - 100,000,000 SLOC\n",
    "\n",
    "- Complex objects:\n",
    "    - primitives: int, string, float, lists, dict, tuple\n",
    "    - turtle: x, y, heading, color, pensize, shape\n",
    "\n",
    "- Bundle data and functions together\n",
    "    - state: the current value(s) of the data in the object\n",
    "    - behavior: the functions that operate on the data in the object\n",
    "\n",
    "- Point\n",
    "    - object should do one thing\n",
    "    - state: x, y, color\n",
    "    - behavior: change_color, move\n",
    "\n",
    "- Classes\n",
    "    - blueprints for objects\n",
    "        - functions are stored algorithms\n",
    "        - class as a stored data type\n",
    "        - classes are not executable\n",
    "        - don't put executable code in global scope, definitions are fine\n",
    "    - rules:\n",
    "        - classes always start with a capital letter\n",
    "        - usually classes go in their own file\n",
    "            - 1 class per file\n",
    "        \n",
    "- Point Class\n",
    "    - Instance: an object created from a specific class\n",
    "        - t = turtle.Turtle() # t is an instance of Turtle\n",
    "    - Instance variable: an internal variable that is part of an instance\n",
    "        - t, x, t.pos # x and pos are instance variables\n",
    "    - Interface: the functions and variables of an object\n",
    "        - t.forward() # .forward part of the interface of turtle\n",
    "\n",
    "- Point - make it a class ourselves\n",
    "\n",
    "- dunders = double underscores on both sides of the name: __"
   ]
  },
  {
   "cell_type": "code",
   "execution_count": 2,
   "metadata": {},
   "outputs": [
    {
     "ename": "ModuleNotFoundError",
     "evalue": "No module named 'point'",
     "output_type": "error",
     "traceback": [
      "\u001b[0;31m---------------------------------------------------------------------------\u001b[0m",
      "\u001b[0;31mModuleNotFoundError\u001b[0m                       Traceback (most recent call last)",
      "Cell \u001b[0;32mIn[2], line 6\u001b[0m\n\u001b[1;32m      3\u001b[0m     \u001b[39mpass\u001b[39;00m\n\u001b[1;32m      5\u001b[0m \u001b[39m### main.py\u001b[39;00m\n\u001b[0;32m----> 6\u001b[0m \u001b[39mimport\u001b[39;00m \u001b[39mpoint\u001b[39;00m\n",
      "\u001b[0;31mModuleNotFoundError\u001b[0m: No module named 'point'"
     ]
    }
   ],
   "source": [
    "### point.py\n",
    "class Point:\n",
    "    def __init__(self): #self is the instance being created\n",
    "        self.x = 0\n",
    "        self.y = 0\n",
    "        self.color = \"\"\n",
    "\n",
    "### main.py\n",
    "import Point #needs to be in a different file\n",
    "\n",
    "p1 = point.Point()\n",
    "p1.x = 10\n",
    "\n",
    "p2 = point.Point()\n",
    "p2.x = 5"
   ]
  }
 ],
 "metadata": {
  "kernelspec": {
   "display_name": "Python 3",
   "language": "python",
   "name": "python3"
  },
  "language_info": {
   "codemirror_mode": {
    "name": "ipython",
    "version": 3
   },
   "file_extension": ".py",
   "mimetype": "text/x-python",
   "name": "python",
   "nbconvert_exporter": "python",
   "pygments_lexer": "ipython3",
   "version": "3.9.10"
  },
  "orig_nbformat": 4
 },
 "nbformat": 4,
 "nbformat_minor": 2
}
