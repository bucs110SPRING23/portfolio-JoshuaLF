{
 "cells": [
  {
   "attachments": {},
   "cell_type": "markdown",
   "metadata": {},
   "source": [
    "# First notes over here (transfer from Google Sheet)\n",
    "\n",
    "# Module\n",
    "\n",
    "Module is just fancy name for python file\n",
    "\n",
    "'print()'\n",
    "'input()'\n",
    "'int()'\n",
    "\n",
    "# Built In Functions\n",
    "\n",
    "# Library Functions\n",
    "\n",
    "'random'\n",
    "'math'"
   ]
  },
  {
   "cell_type": "code",
   "execution_count": 11,
   "metadata": {},
   "outputs": [
    {
     "name": "stdout",
     "output_type": "stream",
     "text": [
      "3.141592653589793\n"
     ]
    }
   ],
   "source": [
    "import random\n",
    "import math\n",
    "\n",
    "# Always put all imports first in the file\n",
    "\n",
    "print(math.pi)"
   ]
  },
  {
   "attachments": {},
   "cell_type": "markdown",
   "metadata": {},
   "source": [
    "# import\n",
    "\n",
    "<modulename>.<object/function>\n",
    "\n"
   ]
  },
  {
   "attachments": {},
   "cell_type": "markdown",
   "metadata": {},
   "source": [
    "# NEW DAY: 2/8/23"
   ]
  },
  {
   "cell_type": "code",
   "execution_count": null,
   "metadata": {},
   "outputs": [],
   "source": [
    "msg = \"Enter 3 numbers:\"\n",
    "mynums = []\n",
    "\n",
    "for i in [0]*3:\n",
    "    var = int(input(\":\"))\n",
    "    mynums.append(var)\n",
    "    print(mynums)\n",
    "print(\"all done\")"
   ]
  },
  {
   "cell_type": "code",
   "execution_count": null,
   "metadata": {},
   "outputs": [],
   "source": [
    "for ch in \"hello\":\n",
    "    print(ch)"
   ]
  },
  {
   "cell_type": "code",
   "execution_count": null,
   "metadata": {},
   "outputs": [],
   "source": [
    "# range()\n",
    "\n",
    "# range(100) generates a list of 100 items\n",
    "\n",
    "# doesn't create the next item in the list though until your program needs it\n",
    "\n",
    "result = range(5) #starts at 0 (default), stops at 5 (non-inclusive)\n",
    "print(list(result))\n",
    "\n",
    "result = range(1, 5) #starts at 1 (inclusive), stops at 5 (non-inclusive)\n",
    "print(list(result))\n",
    "\n",
    "result = range(1, 20, 2) #starts at 1 (inclusive), stops at 20 (non-inclusive),\n",
    "#and steps up at intervals of 2\n",
    "print(list(result))\n",
    "\n",
    "result = range(100, -1, -1) #starts at 100 (inclusive), stops at -1 (non-inclusive)\n",
    "#counts down from 100\n",
    "print(list(result))"
   ]
  },
  {
   "attachments": {},
   "cell_type": "markdown",
   "metadata": {},
   "source": [
    "range(stop)\n",
    "\n",
    "range(start, stop)\n",
    "\n",
    "range(start, stop, step)"
   ]
  },
  {
   "attachments": {},
   "cell_type": "markdown",
   "metadata": {},
   "source": [
    "# NEW DAY: 2/13/23"
   ]
  },
  {
   "attachments": {},
   "cell_type": "markdown",
   "metadata": {},
   "source": [
    "> Pygame is a framework\n",
    "\n",
    "import pygame #needs to be imported\n",
    "\n",
    "pygame.init() #then intialized\n",
    "\n",
    "screen = pygame.display.set_mode() #then the screen must be set\n"
   ]
  }
 ],
 "metadata": {
  "kernelspec": {
   "display_name": "Python 3",
   "language": "python",
   "name": "python3"
  },
  "language_info": {
   "codemirror_mode": {
    "name": "ipython",
    "version": 3
   },
   "file_extension": ".py",
   "mimetype": "text/x-python",
   "name": "python",
   "nbconvert_exporter": "python",
   "pygments_lexer": "ipython3",
   "version": "3.9.10"
  },
  "orig_nbformat": 4,
  "vscode": {
   "interpreter": {
    "hash": "aee8b7b246df8f9039afb4144a1f6fd8d2ca17a180786b69acc140d282b71a49"
   }
  }
 },
 "nbformat": 4,
 "nbformat_minor": 2
}
