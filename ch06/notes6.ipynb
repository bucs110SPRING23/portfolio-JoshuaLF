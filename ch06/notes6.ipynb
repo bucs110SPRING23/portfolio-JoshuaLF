{
 "cells": [
  {
   "attachments": {},
   "cell_type": "markdown",
   "metadata": {},
   "source": [
    "# NEW DAY: 03/15/23"
   ]
  },
  {
   "attachments": {},
   "cell_type": "markdown",
   "metadata": {},
   "source": [
    "- Files are a saved program state"
   ]
  },
  {
   "cell_type": "code",
   "execution_count": 4,
   "metadata": {},
   "outputs": [
    {
     "name": "stdout",
     "output_type": "stream",
     "text": [
      "['hi']\n"
     ]
    }
   ],
   "source": [
    "def main(): \n",
    "    idea = input(\"Enter an idea:\")\n",
    "    ideas = []\n",
    "    ideas.append(idea)\n",
    "    print(ideas)\n",
    "\n",
    "main() #doesn't save the code and just resets 'ideas' after each run"
   ]
  },
  {
   "attachments": {},
   "cell_type": "markdown",
   "metadata": {},
   "source": [
    "- Operating system - manages files\n",
    "    - Request the files from the OS (need to know:)\n",
    "        - where\n",
    "        - name\n",
    "        - how to use it\n",
    "\n",
    "    - working with files is one way"
   ]
  },
  {
   "cell_type": "code",
   "execution_count": 14,
   "metadata": {},
   "outputs": [
    {
     "name": "stdout",
     "output_type": "stream",
     "text": [
      "he\n",
      "llo this is an idea\n",
      "\n"
     ]
    }
   ],
   "source": [
    "def main(): #READING\n",
    "    file_pointer = open(\"assets/ideas.txt\", \"r\")\n",
    "     # will open in whatever folder your code is running (ch06 rn)\n",
    "     # \"r\" means it's for reading the file\n",
    "\n",
    "    ideas = file_pointer.read() #prints out the file\n",
    "    print(ideas)\n",
    "\n",
    "    ideas = file_pointer.readlines() #prints out the lines of the file\n",
    "    print(ideas)\n",
    "\n",
    "    ideas = file_pointer.readline() #prints out the first line of the file\n",
    "    print(ideas)\n",
    "    ideas = file_pointer.readline() #prints out the second line of the file\n",
    "    print(ideas)\n",
    "\n",
    "    file_pointer.close() #closing the file resets the file cursor\n",
    "\n",
    "main()"
   ]
  },
  {
   "cell_type": "code",
   "execution_count": 20,
   "metadata": {},
   "outputs": [],
   "source": [
    "def main(): #WRITING\n",
    "    #file_pointer = open(\"assets/ideas.txt\", \"w\") #deletes file when writing\n",
    "\n",
    "    file_pointer = open(\"assets/ideas.txt\", \"a\") #adds to file\n",
    "\n",
    "    idea = input(\"Enter an idea:\")\n",
    "    ideas = []\n",
    "    ideas.append(idea)\n",
    "    \n",
    "    for i in ideas:\n",
    "        file_pointer.write(i + \"\\n\")\n",
    "    file_pointer.close() #want to make sure to close it to not get errors\n",
    "    #if program close before write then it no do but this make sure it do it\n",
    "\n",
    "main()"
   ]
  },
  {
   "attachments": {},
   "cell_type": "markdown",
   "metadata": {},
   "source": [
    "- json is a string format, not a file format"
   ]
  },
  {
   "cell_type": "code",
   "execution_count": 27,
   "metadata": {},
   "outputs": [
    {
     "name": "stdout",
     "output_type": "stream",
     "text": [
      "[\n",
      "    1,\n",
      "    \"hello\",\n",
      "    [\"a\", \"b\", \"c\"]\n",
      "] <class 'str'> \n",
      "\n",
      "[1, 'hello', ['a', 'b', 'c']] <class 'list'>\n"
     ]
    }
   ],
   "source": [
    "import json\n",
    "\n",
    "file_contents = open(\"assets/jsonExample.txt\", \"r\").read()\n",
    "print(file_contents, type(file_contents),\"\\n\")\n",
    "data = json.loads(file_contents)\n",
    "print(data, type(data))"
   ]
  },
  {
   "attachments": {},
   "cell_type": "markdown",
   "metadata": {},
   "source": [
    "# NEW DAY: 3/20/23"
   ]
  },
  {
   "attachments": {},
   "cell_type": "markdown",
   "metadata": {},
   "source": [
    "- File streams - one way\n",
    "\n",
    "- \"w\" - deletes any existing file, truncate the file"
   ]
  },
  {
   "cell_type": "code",
   "execution_count": 1,
   "metadata": {},
   "outputs": [],
   "source": [
    "def main():\n",
    "    filename = \"assets/ideas.txt\"\n",
    "    fptr = open(filename, \"r\")\n",
    "    accumulator = 0\n",
    "    for ch in fptr.read():\n",
    "        if ch.isalnum(): #.isalnum checks to see if it's an alphanumeric char.\n",
    "            accumulator += 1\n",
    "    fptr.close()\n",
    "\n",
    "    fptr = open(filename + \".dat\", \"w\")\n",
    "    data = str(accumulator) + \" characters\"\n",
    "    fptr.write(data)\n",
    "\n",
    "main()"
   ]
  },
  {
   "attachments": {},
   "cell_type": "markdown",
   "metadata": {},
   "source": [
    "- json: javascript object notation\n",
    "\n",
    "    - string format, not file format\n",
    "\n",
    "    - int, float, string, bool, list, dictionary, None\n",
    "\n",
    "    - {}: dictionary, []: list"
   ]
  },
  {
   "cell_type": "code",
   "execution_count": 9,
   "metadata": {},
   "outputs": [
    {
     "name": "stdout",
     "output_type": "stream",
     "text": [
      "{\"num\": 1, \"msg\": \"Hello World\"} <class 'str'>\n",
      "num 1\n",
      "msg Hello World\n",
      "{'num': 1, 'msg': 'Hello World'} <class 'dict'>\n",
      "{'num': 1, 'msg': 'Hello World'} <class 'dict'>\n"
     ]
    }
   ],
   "source": [
    "import json\n",
    "\n",
    "data = {\n",
    "    \"num\" : 1,\n",
    "    \"msg\": \"Hello World\"\n",
    "}\n",
    "\n",
    "json_string = json.dumps(data) #dumps python data into string\n",
    "print(json_string, type(json_string))\n",
    "\n",
    "json_data = json.loads(json_string)\n",
    "\n",
    "for k, v in json_data.items():\n",
    "    print(k, v)\n",
    "\n",
    "fptr = open(\"assets/data.json\", \"w\") #.json is convention, not a file type\n",
    "fptr.write(json_string)\n",
    "fptr.close()\n",
    "\n",
    "data_str = open(\"assets/data.json\", \"r\").read()\n",
    "data = json.loads(data_str)\n",
    "print(data, type(data))\n",
    "\n",
    "# can also do this(skips a step):\n",
    "data = json.load(open(\"assets/data.json\", \"r\")) #make 'loads' into 'load' to do this\n",
    "print(data, type(data))"
   ]
  },
  {
   "cell_type": "code",
   "execution_count": 15,
   "metadata": {},
   "outputs": [],
   "source": [
    "import json\n",
    "\n",
    "def main():\n",
    "    file_pointer = open(\"assets/ideas.txt\", \"r\")\n",
    "    idea = input(\"Enter an idea:\")\n",
    "    data = json.load(file_pointer)\n",
    "    data.append(idea) #file needs to be a list or dictionary\n",
    "    file_pointer.close()\n",
    "\n",
    "    file_pointer = open(\"assets/ideas.txt\", \"w\")\n",
    "    json.dump(data, file_pointer)\n",
    "    file_pointer.close()\n",
    "\n",
    "main()"
   ]
  },
  {
   "cell_type": "code",
   "execution_count": 30,
   "metadata": {},
   "outputs": [
    {
     "name": "stdout",
     "output_type": "stream",
     "text": [
      "time stop\n"
     ]
    }
   ],
   "source": [
    "import json\n",
    "import random\n",
    "\n",
    "def main():\n",
    "    json_data = json.load(open(\"assets/ideas.txt\", \"r\"))\n",
    "    print(random.choice(json_data))\n",
    "\n",
    "main()"
   ]
  }
 ],
 "metadata": {
  "kernelspec": {
   "display_name": "Python 3",
   "language": "python",
   "name": "python3"
  },
  "language_info": {
   "codemirror_mode": {
    "name": "ipython",
    "version": 3
   },
   "file_extension": ".py",
   "mimetype": "text/x-python",
   "name": "python",
   "nbconvert_exporter": "python",
   "pygments_lexer": "ipython3",
   "version": "3.9.10"
  },
  "orig_nbformat": 4
 },
 "nbformat": 4,
 "nbformat_minor": 2
}
