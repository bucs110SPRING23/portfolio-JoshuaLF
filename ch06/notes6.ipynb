{
 "cells": [
  {
   "attachments": {},
   "cell_type": "markdown",
   "metadata": {},
   "source": [
    "# NEW DAY: 03/15/23"
   ]
  },
  {
   "attachments": {},
   "cell_type": "markdown",
   "metadata": {},
   "source": [
    "- Files are a saved program state"
   ]
  },
  {
   "cell_type": "code",
   "execution_count": 4,
   "metadata": {},
   "outputs": [
    {
     "name": "stdout",
     "output_type": "stream",
     "text": [
      "['hi']\n"
     ]
    }
   ],
   "source": [
    "def main(): \n",
    "    idea = input(\"Enter an idea:\")\n",
    "    ideas = []\n",
    "    ideas.append(idea)\n",
    "    print(ideas)\n",
    "\n",
    "main() #doesn't save the code and just resets 'ideas' after each run"
   ]
  },
  {
   "attachments": {},
   "cell_type": "markdown",
   "metadata": {},
   "source": [
    "- Operating system - manages files\n",
    "    - Request the files from the OS (need to know:)\n",
    "        - where\n",
    "        - name\n",
    "        - how to use it\n",
    "\n",
    "    - working with files is one way"
   ]
  },
  {
   "cell_type": "code",
   "execution_count": 14,
   "metadata": {},
   "outputs": [
    {
     "name": "stdout",
     "output_type": "stream",
     "text": [
      "he\n",
      "llo this is an idea\n",
      "\n"
     ]
    }
   ],
   "source": [
    "def main(): #READING\n",
    "    file_pointer = open(\"ideas.txt\", \"r\")\n",
    "     # will open in whatever folder your code is running (ch06 rn)\n",
    "     # \"r\" means it's for reading the file\n",
    "\n",
    "    ideas = file_pointer.read() #prints out the file\n",
    "    print(ideas)\n",
    "\n",
    "    ideas = file_pointer.readlines() #prints out the lines of the file\n",
    "    print(ideas)\n",
    "\n",
    "    ideas = file_pointer.readline() #prints out the first line of the file\n",
    "    print(ideas)\n",
    "    ideas = file_pointer.readline() #prints out the second line of the file\n",
    "    print(ideas)\n",
    "\n",
    "    file_pointer.close() #closing the file resets the file cursor\n",
    "\n",
    "main()"
   ]
  },
  {
   "cell_type": "code",
   "execution_count": 20,
   "metadata": {},
   "outputs": [],
   "source": [
    "def main(): #WRITING\n",
    "    #file_pointer = open(\"ideas.txt\", \"w\") #deletes file when writing\n",
    "\n",
    "    file_pointer = open(\"ideas.txt\", \"a\") #adds to file\n",
    "\n",
    "    idea = input(\"Enter an idea:\")\n",
    "    ideas = []\n",
    "    ideas.append(idea)\n",
    "    \n",
    "    for i in ideas:\n",
    "        file_pointer.write(i + \"\\n\")\n",
    "    file_pointer.close() #want to make sure to close it to not get errors\n",
    "    #if program close before write then it no do but this make sure it do it\n",
    "\n",
    "main()"
   ]
  },
  {
   "attachments": {},
   "cell_type": "markdown",
   "metadata": {},
   "source": [
    "- json is a string format, not a file format"
   ]
  },
  {
   "cell_type": "code",
   "execution_count": 27,
   "metadata": {},
   "outputs": [
    {
     "name": "stdout",
     "output_type": "stream",
     "text": [
      "[\n",
      "    1,\n",
      "    \"hello\",\n",
      "    [\"a\", \"b\", \"c\"]\n",
      "] <class 'str'> \n",
      "\n",
      "[1, 'hello', ['a', 'b', 'c']] <class 'list'>\n"
     ]
    }
   ],
   "source": [
    "import json\n",
    "\n",
    "file_contents = open(\"jsonExample.txt\", \"r\").read()\n",
    "print(file_contents, type(file_contents),\"\\n\")\n",
    "data = json.loads(file_contents)\n",
    "print(data, type(data))"
   ]
  }
 ],
 "metadata": {
  "kernelspec": {
   "display_name": "Python 3",
   "language": "python",
   "name": "python3"
  },
  "language_info": {
   "codemirror_mode": {
    "name": "ipython",
    "version": 3
   },
   "file_extension": ".py",
   "mimetype": "text/x-python",
   "name": "python",
   "nbconvert_exporter": "python",
   "pygments_lexer": "ipython3",
   "version": "3.9.10"
  },
  "orig_nbformat": 4
 },
 "nbformat": 4,
 "nbformat_minor": 2
}
