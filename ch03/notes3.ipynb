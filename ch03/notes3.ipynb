{
 "cells": [
  {
   "attachments": {},
   "cell_type": "markdown",
   "metadata": {},
   "source": [
    "# NEW DAY: 2/15/23"
   ]
  },
  {
   "cell_type": "code",
   "execution_count": null,
   "metadata": {},
   "outputs": [],
   "source": [
    "# bool - boolean value\n",
    "\n",
    "print(type(True))\n",
    "\n",
    "print(bool(0), bool(\"\"), bool([]))\n",
    "\n",
    "x = 8\n",
    "y = 10\n",
    "\n",
    "print(x == y) #equality, == boolean equality test, = is assignment\n",
    "print(x > y)\n",
    "print(x < y)\n",
    "print(x >= y)\n",
    "print(x <= y)\n",
    "\n",
    "# and, or, not - semantic operators\n",
    "\n",
    "# and: and == true, when x and y are both true\n",
    "\n",
    "print(True and True) # True\n",
    "print(True and False) # False\n",
    "print(False and True) # False\n",
    "print(False and False) # False\n",
    "\n",
    "# or -  at least one true\n",
    "\n",
    "print(True or True) # True\n",
    "print(True or False) # True\n",
    "print(False or True) # True\n",
    "print(False or False) # False\n",
    "\n",
    "# not - negation\n",
    "\n",
    "print(not True) # False\n",
    "\n",
    "print(\"apple\" ==  \"apple\") # True\n",
    "\n",
    "mynums = [1, 2, 3, 4, 5, 6, 7]\n",
    "print(1 in mynums) # True\n",
    "print(10 in mynums) # False\n",
    "print(1.0 in mynums) # True (able to do conversion from float to int)"
   ]
  },
  {
   "cell_type": "code",
   "execution_count": 10,
   "metadata": {},
   "outputs": [
    {
     "name": "stdout",
     "output_type": "stream",
     "text": [
      "x is greater than 5\n"
     ]
    }
   ],
   "source": [
    "a = int(input(\"num:\"))\n",
    "\n",
    "if a > 10: #always have most selective one first\n",
    "        print(\"x is greater than 10\")\n",
    "elif a > 5:\n",
    "        print(\"x is greater than 5\")\n",
    "else:\n",
    "    print(\"x is less than 5\")\n",
    "\n",
    "# elif - always goes between if and else"
   ]
  },
  {
   "cell_type": "code",
   "execution_count": 14,
   "metadata": {},
   "outputs": [
    {
     "name": "stdout",
     "output_type": "stream",
     "text": [
      "number: 0\n",
      "fizzbuzz\n",
      "number: 1\n",
      "number: 2\n",
      "number: 3\n",
      "fizz\n",
      "number: 4\n",
      "number: 5\n",
      "buzz\n",
      "number: 6\n",
      "fizz\n",
      "number: 7\n",
      "number: 8\n",
      "number: 9\n",
      "fizz\n",
      "number: 10\n",
      "buzz\n",
      "number: 11\n",
      "number: 12\n",
      "fizz\n",
      "number: 13\n",
      "number: 14\n",
      "number: 15\n",
      "fizzbuzz\n",
      "number: 16\n",
      "number: 17\n",
      "number: 18\n",
      "fizz\n",
      "number: 19\n",
      "number: 20\n",
      "buzz\n",
      "number: 21\n",
      "fizz\n"
     ]
    },
    {
     "data": {
      "text/plain": [
       "'\\nvalues = list(input(\"give me values separated by a comma:\"))\\n\\nfor a in values:\\n    if values[a] % 3 == 0 and values[a] % 5 == 0:\\n        print(\"fizzbuzz\")\\n    elif values[a] % 3 == 0:\\n        print(\"fizz\")\\n    elif values[a] % 5 == 0:\\n        print(\"buzz\")\\n    else:\\n        print(\"it no work\") '"
      ]
     },
     "execution_count": 14,
     "metadata": {},
     "output_type": "execute_result"
    }
   ],
   "source": [
    "## Fizzbuzz\n",
    "\n",
    "num = int(input(\"enter an upper limit:\"))\n",
    "\n",
    "for i in range(num+1):\n",
    "    print(\"number:\",i)\n",
    "    if i % 3 == 0 and i % 5 == 0:\n",
    "        print(\"fizzbuzz\")\n",
    "    elif i % 3 == 0:\n",
    "        print(\"fizz\")\n",
    "    elif i % 5 == 0:\n",
    "        print(\"buzz\")\n",
    "    \n",
    "\n",
    "'''\n",
    "values = list(input(\"give me values separated by a comma:\"))\n",
    "\n",
    "for a in values:\n",
    "    if values[a] % 3 == 0 and values[a] % 5 == 0:\n",
    "        print(\"fizzbuzz\")\n",
    "    elif values[a] % 3 == 0:\n",
    "        print(\"fizz\")\n",
    "    elif values[a] % 5 == 0:\n",
    "        print(\"buzz\")\n",
    "    else:\n",
    "        print(\"it no work\") '''"
   ]
  }
 ],
 "metadata": {
  "kernelspec": {
   "display_name": "Python 3",
   "language": "python",
   "name": "python3"
  },
  "language_info": {
   "codemirror_mode": {
    "name": "ipython",
    "version": 3
   },
   "file_extension": ".py",
   "mimetype": "text/x-python",
   "name": "python",
   "nbconvert_exporter": "python",
   "pygments_lexer": "ipython3",
   "version": "3.9.10"
  },
  "orig_nbformat": 4,
  "vscode": {
   "interpreter": {
    "hash": "aee8b7b246df8f9039afb4144a1f6fd8d2ca17a180786b69acc140d282b71a49"
   }
  }
 },
 "nbformat": 4,
 "nbformat_minor": 2
}
